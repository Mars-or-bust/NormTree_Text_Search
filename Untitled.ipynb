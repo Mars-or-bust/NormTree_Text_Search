{
 "cells": [
  {
   "cell_type": "code",
   "execution_count": 1,
   "id": "d35047eb-9b1f-4b43-9a94-5e5e055fde4f",
   "metadata": {},
   "outputs": [],
   "source": [
    "from normalized_text_matching import * "
   ]
  },
  {
   "cell_type": "code",
   "execution_count": 17,
   "id": "452c198e-45ea-45ac-8427-49985bb1aaa4",
   "metadata": {},
   "outputs": [],
   "source": [
    "text = 'This is a test, Ben was here. Be;n was here. Be*n was here. ben was here.'\n",
    "search_terms = ['Ben']\n",
    "replacement_pairs = {'test':'Ben', ';':''}\n",
    "strip_chars = '*'"
   ]
  },
  {
   "cell_type": "code",
   "execution_count": 18,
   "id": "da06f940-782f-4107-8160-e596f7f9f78d",
   "metadata": {},
   "outputs": [
    {
     "data": {
      "text/html": [
       "<div>\n",
       "<style scoped>\n",
       "    .dataframe tbody tr th:only-of-type {\n",
       "        vertical-align: middle;\n",
       "    }\n",
       "\n",
       "    .dataframe tbody tr th {\n",
       "        vertical-align: top;\n",
       "    }\n",
       "\n",
       "    .dataframe thead th {\n",
       "        text-align: right;\n",
       "    }\n",
       "</style>\n",
       "<table border=\"1\" class=\"dataframe\">\n",
       "  <thead>\n",
       "    <tr style=\"text-align: right;\">\n",
       "      <th></th>\n",
       "      <th>original_text</th>\n",
       "      <th>normalized_match</th>\n",
       "      <th>search_value</th>\n",
       "      <th>locations</th>\n",
       "    </tr>\n",
       "  </thead>\n",
       "  <tbody>\n",
       "    <tr>\n",
       "      <th>0</th>\n",
       "      <td>test</td>\n",
       "      <td>ben</td>\n",
       "      <td>Ben</td>\n",
       "      <td>(10, 14)</td>\n",
       "    </tr>\n",
       "    <tr>\n",
       "      <th>1</th>\n",
       "      <td>Ben</td>\n",
       "      <td>ben</td>\n",
       "      <td>Ben</td>\n",
       "      <td>(16, 19)</td>\n",
       "    </tr>\n",
       "    <tr>\n",
       "      <th>2</th>\n",
       "      <td>Be;n</td>\n",
       "      <td>ben</td>\n",
       "      <td>Ben</td>\n",
       "      <td>(30, 34)</td>\n",
       "    </tr>\n",
       "    <tr>\n",
       "      <th>3</th>\n",
       "      <td>ben</td>\n",
       "      <td>ben</td>\n",
       "      <td>Ben</td>\n",
       "      <td>(60, 63)</td>\n",
       "    </tr>\n",
       "  </tbody>\n",
       "</table>\n",
       "</div>"
      ],
      "text/plain": [
       "  original_text normalized_match search_value locations\n",
       "0          test              ben          Ben  (10, 14)\n",
       "1           Ben              ben          Ben  (16, 19)\n",
       "2          Be;n              ben          Ben  (30, 34)\n",
       "3           ben              ben          Ben  (60, 63)"
      ]
     },
     "execution_count": 18,
     "metadata": {},
     "output_type": "execute_result"
    }
   ],
   "source": [
    "results = normalized_text_search(text, \n",
    "                                 search_terms,\n",
    "                                 replacement_pairs,\n",
    "                                 strip_chars)\n",
    "results"
   ]
  },
  {
   "cell_type": "code",
   "execution_count": 12,
   "id": "b6f92bb6-2027-4a90-af42-5ad2355aa207",
   "metadata": {},
   "outputs": [],
   "source": [
    "replacement_pairs = dict([\n",
    "                 ('.', '. '),\n",
    "                 ('&', ' and '),\n",
    "                 (' co ',' company '),\n",
    "                 (' co. ',' company '),\n",
    "                 (' corp ',' corporation '),\n",
    "                 (' corp. ',' corporation '),\n",
    "                 ('incorporated',' '),\n",
    "                 ('incorporated.',' '),\n",
    "                 (' inc ',' '),\n",
    "                 (' inc. ',' '),\n",
    "                 ('llc', ' '),\n",
    "                 (' ltd ',' limited '),\n",
    "                 (' ltd.',' limited '),\n",
    "                 # (' elevation ',''),\n",
    "])\n",
    "\n",
    "\n",
    "strip_chars =  [',', '/', '-', \"'\",]"
   ]
  },
  {
   "cell_type": "code",
   "execution_count": 14,
   "id": "c98c0216-70b1-46be-9400-eb101c43a00f",
   "metadata": {},
   "outputs": [],
   "source": [
    "import json\n",
    "\n",
    "with open('replacement_pairs.json', 'w') as fp:\n",
    "    json.dump(replacement_pairs, fp)\n",
    "    \n",
    "with open('strip_chars.json', 'w') as fp:\n",
    "    json.dump(strip_chars, fp)"
   ]
  },
  {
   "cell_type": "code",
   "execution_count": null,
   "id": "f3d79858-1229-4be4-83d8-54eec8e3370b",
   "metadata": {},
   "outputs": [],
   "source": []
  }
 ],
 "metadata": {
  "kernelspec": {
   "display_name": "Python 3",
   "language": "python",
   "name": "python3"
  },
  "language_info": {
   "codemirror_mode": {
    "name": "ipython",
    "version": 3
   },
   "file_extension": ".py",
   "mimetype": "text/x-python",
   "name": "python",
   "nbconvert_exporter": "python",
   "pygments_lexer": "ipython3",
   "version": "3.8.8"
  },
  "widgets": {
   "application/vnd.jupyter.widget-state+json": {
    "state": {},
    "version_major": 2,
    "version_minor": 0
   }
  }
 },
 "nbformat": 4,
 "nbformat_minor": 5
}
